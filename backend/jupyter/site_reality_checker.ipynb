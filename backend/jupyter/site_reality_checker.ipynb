{
 "cells": [
  {
   "cell_type": "code",
   "id": "initial_id",
   "metadata": {
    "collapsed": true,
    "ExecuteTime": {
     "end_time": "2024-06-29T01:22:26.654167Z",
     "start_time": "2024-06-29T01:22:25.952024Z"
    }
   },
   "source": [
    "import requests\n",
    "\n",
    "\n",
    "def get_url(url: str) -> str | None:\n",
    "    try:\n",
    "        response = requests.get(url, allow_redirects=True)\n",
    "        return response.content.decode(errors=\"ignore\")\n",
    "    except Exception as e:\n",
    "        print(f\"Error fetching content from {url}: {e}\")\n",
    "        return None\n",
    "\n",
    "\n",
    "print(get_url(\"https://www.google.com\"))"
   ],
   "outputs": [
    {
     "name": "stdout",
     "output_type": "stream",
     "text": [
      "<!doctype html><html itemscope=\"\" itemtype=\"http://schema.org/WebPage\" lang=\"en-IN\"><head><meta content=\"text/html; charset=UTF-8\" http-equiv=\"Content-Type\"><meta content=\"/images/branding/googleg/1x/googleg_standard_color_128dp.png\" itemprop=\"image\"><title>Google</title><script nonce=\"6Gbpg0RCfAOU7etUGt1dUg\">(function(){var _g={kEI:'zGF_ZsTkO_eq4-EP8am00AQ',kEXPI:'0,3700270,679,432,5,23,38,5,448460,90133,2872,2891,11754,61296,16105,18161,45421,43893,56384,2,16737,23024,6699,41946,54824,2913,2,2,1,23827,10960,23351,22435,9779,62657,33565,39614,3030,15816,1804,7734,25,13252,14258,13448,40382,4565,11412,5211785,742,148,622,5991809,2839759,16,527,242,3,18,3,1,51,1,46,27998141,43886,3,318,4,1281,3,2124363,23029351,4117,2752,1294,10336,2708,8028,8639,22904,5121,24916,11954,10511,2370,6407,2863,10983,10474,2478,2211,7982,201,5928,14786,24576,2299,1840,1950,7321,814,7766,3821,3006,1792,1954,155,2,2482,13503,6451,1285,6598,2,2539,680,4,285,539,3092,207,121,2668,549,4,3004,273,3110,3377,800,4,3995,2338,1695,4081,410,518,2792,1,6,502,1107,3,88,1185,1045,6,2346,3942,17,669,2458,2,289,2,997,1480,1401,45,1122,3,5,413,55,1297,157,423,664,2685,9,1540,2,2672,267,970,10,366,293,40,4620,1704,316,18,969,7,1,2552,683,451,208,19,5021,636,56,454,1662,317,2590,215,107,418,348,3,227,491,1,1142,353,1573,287,2,9,623,1459,277,15,1,1,831,5,2,1,782,3,5,765,47,397,6,3,49,710,202,525,141,1,2,1464,6,244,294,834,118,936,1,1,1317,36,437,464,403,121,4,1,6,262,412,1570,3,369,3,94,448,124,1134,111,168,3,1,9,529,66,448,51,23,1,3,1,400,563,140,158,2,1074,32,1533,232,13,214,1653,249,554,881,402,149,781,102,266,4,339,58,501,285,8,1,1,329,178,45,478,42,871,128,291,366,523,911,492,756,601,336,60,437,11,108,182,277,404,1080,579,18,22,707,6,217,170,1232,381,1715,4,438,127,85,2,116,774,2,205,1115,57,4,3,119,160,42,2,1769,3,64,66,581,444,153,555,3,200,11,12,758,26,21182719,369329,3,980,5,17354,2206,20,1309,424',kBL:'dsEj',kOPI:89978449};(function(){var a;((a=window.google)==null?0:a.stvsc)?google.kEI=_g.kEI:window.google=_g;}).call(this);})();(function(){google.sn='webhp';google.kHL='en-IN';})();(function(){\n",
      "var h=this||self;function l(){return window.google!==void 0&&window.google.kOPI!==void 0&&window.google.kOPI!==0?window.google.kOPI:null};var m,n=[];function p(a){for(var b;a&&(!a.getAttribute||!(b=a.getAttribute(\"eid\")));)a=a.parentNode;return b||m}function q(a){for(var b=null;a&&(!a.getAttribute||!(b=a.getAttribute(\"leid\")));)a=a.parentNode;return b}function r(a){/^http:/i.test(a)&&window.location.protocol===\"https:\"&&(google.ml&&google.ml(Error(\"a\"),!1,{src:a,glmm:1}),a=\"\");return a}\n",
      "function t(a,b,c,d,k){var e=\"\";b.search(\"&ei=\")===-1&&(e=\"&ei=\"+p(d),b.search(\"&lei=\")===-1&&(d=q(d))&&(e+=\"&lei=\"+d));d=\"\";var g=b.search(\"&cshid=\")===-1&&a!==\"slh\",f=[];f.push([\"zx\",Date.now().toString()]);h._cshid&&g&&f.push([\"cshid\",h._cshid]);c=c();c!=null&&f.push([\"opi\",c.toString()]);for(c=0;c<f.length;c++){if(c===0||c>0)d+=\"&\";d+=f[c][0]+\"=\"+f[c][1]}return\"/\"+(k||\"gen_204\")+\"?atyp=i&ct=\"+String(a)+\"&cad=\"+(b+e+d)};m=google.kEI;google.getEI=p;google.getLEI=q;google.ml=function(){return null};google.log=function(a,b,c,d,k,e){e=e===void 0?l:e;c||(c=t(a,b,e,d,k));if(c=r(c)){a=new Image;var g=n.length;n[g]=a;a.onerror=a.onload=a.onabort=function(){delete n[g]};a.src=c}};google.logUrl=function(a,b){b=b===void 0?l:b;return t(\"\",a,b)};}).call(this);(function(){google.y={};google.sy=[];google.x=function(a,b){if(a)var c=a.id;else{do c=Math.random();while(google.y[c])}google.y[c]=[a,b];return!1};google.sx=function(a){google.sy.push(a)};google.lm=[];google.plm=function(a){google.lm.push.apply(google.lm,a)};google.lq=[];google.load=function(a,b,c){google.lq.push([[a],b,c])};google.loadAll=function(a,b){google.lq.push([a,b])};google.bx=!1;google.lx=function(){};var d=[];google.fce=function(a,b,c,e){d.push([a,b,c,e])};google.qce=d;}).call(this);google.f={};(function(){\n",
      "document.documentElement.addEventListener(\"submit\",function(b){var a;if(a=b.target){var c=a.getAttribute(\"data-submitfalse\");a=c===\"1\"||c===\"q\"&&!a.elements.q.value?!0:!1}else a=!1;a&&(b.preventDefault(),b.stopPropagation())},!0);document.documentElement.addEventListener(\"click\",function(b){var a;a:{for(a=b.target;a&&a!==document.documentElement;a=a.parentElement)if(a.tagName===\"A\"){a=a.getAttribute(\"data-nohref\")===\"1\";break a}a=!1}a&&b.preventDefault()},!0);}).call(this);</script><style>#gbar,#guser{font-size:13px;padding-top:1px !important;}#gbar{height:22px}#guser{padding-bottom:7px !important;text-align:right}.gbh,.gbd{border-top:1px solid #c9d7f1;font-size:1px}.gbh{height:0;position:absolute;top:24px;width:100%}@media all{.gb1{height:22px;margin-right:.5em;vertical-align:top}#gbar{float:left}}a.gb1,a.gb4{text-decoration:underline !important}a.gb1,a.gb4{color:#00c !important}.gbi .gb4{color:#dd8e27 !important}.gbf .gb4{color:#900 !important}\n",
      "</style><style>body,td,a,p,.h{font-family:arial,sans-serif}body{margin:0;overflow-y:scroll}#gog{padding:3px 8px 0}td{line-height:.8em}.gac_m td{line-height:17px}form{margin-bottom:20px}.h{color:#1967d2}em{font-weight:bold;font-style:normal}.lst{height:25px;width:496px}.gsfi,.lst{font:18px arial,sans-serif}.gsfs{font:17px arial,sans-serif}.ds{display:inline-box;display:inline-block;margin:3px 0 4px;margin-left:4px}input{font-family:inherit}body{background:#fff;color:#000}a{color:#681da8;text-decoration:none}a:hover,a:active{text-decoration:underline}.fl a{color:#1967d2}a:visited{color:#681da8}.sblc{padding-top:5px}.sblc a{display:block;margin:2px 0;margin-left:13px;font-size:11px}.lsbb{background:#f8f9fa;border:solid 1px;border-color:#dadce0 #70757a #70757a #dadce0;height:30px}.lsbb{display:block}#WqQANb a{display:inline-block;margin:0 12px}.lsb{background:url(/images/nav_logo229.png) 0 -261px repeat-x;color:#000;border:none;cursor:pointer;height:30px;margin:0;outline:0;font:15px arial,sans-serif;vertical-align:top}.lsb:active{background:#dadce0}.lst:focus{outline:none}</style><script nonce=\"6Gbpg0RCfAOU7etUGt1dUg\">(function(){window.google.erd={jsr:1,bv:2033,de:true};\n",
      "var h=this||self;var k,l=(k=h.mei)!=null?k:1,n,p=(n=h.sdo)!=null?n:!0,q=0,r,t=google.erd,v=t.jsr;google.ml=function(a,b,d,m,e){e=e===void 0?2:e;b&&(r=a&&a.message);d===void 0&&(d={});d.cad=\"ple_\"+google.ple+\".aple_\"+google.aple;if(google.dl)return google.dl(a,e,d,!0),null;b=d;if(v<0){window.console&&console.error(a,b);if(v===-2)throw a;b=!1}else b=!a||!a.message||a.message===\"Error loading script\"||q>=l&&!m?!1:!0;if(!b)return null;q++;d=d||{};b=encodeURIComponent;var c=\"/gen_204?atyp=i&ei=\"+b(google.kEI);google.kEXPI&&(c+=\"&jexpid=\"+b(google.kEXPI));c+=\"&srcpg=\"+b(google.sn)+\"&jsr=\"+b(t.jsr)+\n",
      "\"&bver=\"+b(t.bv);var f=a.lineNumber;f!==void 0&&(c+=\"&line=\"+f);var g=a.fileName;g&&(g.indexOf(\"-extension:/\")>0&&(e=3),c+=\"&script=\"+b(g),f&&g===window.location.href&&(f=document.documentElement.outerHTML.split(\"\\n\")[f],c+=\"&cad=\"+b(f?f.substring(0,300):\"No script found.\")));google.ple&&google.ple===1&&(e=2);c+=\"&jsel=\"+e;for(var u in d)c+=\"&\",c+=b(u),c+=\"=\",c+=b(d[u]);c=c+\"&emsg=\"+b(a.name+\": \"+a.message);c=c+\"&jsst=\"+b(a.stack||\"N/A\");c.length>=12288&&(c=c.substr(0,12288));a=c;m||google.log(0,\"\",a);return a};window.onerror=function(a,b,d,m,e){r!==a&&(a=e instanceof Error?e:Error(a),d===void 0||\"lineNumber\"in a||(a.lineNumber=d),b===void 0||\"fileName\"in a||(a.fileName=b),google.ml(a,!1,void 0,!1,a.name===\"SyntaxError\"||a.message.substring(0,11)===\"SyntaxError\"||a.message.indexOf(\"Script error\")!==-1?3:0));r=null;p&&q>=l&&(window.onerror=null)};})();</script></head><body bgcolor=\"#fff\"><script nonce=\"6Gbpg0RCfAOU7etUGt1dUg\">(function(){var src='/images/nav_logo229.png';var iesg=false;document.body.onload = function(){window.n && window.n();if (document.images){new Image().src=src;}\n",
      "if (!iesg){document.f&&document.f.q.focus();document.gbqf&&document.gbqf.q.focus();}\n",
      "}\n",
      "})();</script><div id=\"mngb\"><div id=gbar><nobr><b class=gb1>Search</b> <a class=gb1 href=\"https://www.google.com/imghp?hl=en&tab=wi\">Images</a> <a class=gb1 href=\"https://maps.google.co.in/maps?hl=en&tab=wl\">Maps</a> <a class=gb1 href=\"https://play.google.com/?hl=en&tab=w8\">Play</a> <a class=gb1 href=\"https://www.youtube.com/?tab=w1\">YouTube</a> <a class=gb1 href=\"https://news.google.com/?tab=wn\">News</a> <a class=gb1 href=\"https://mail.google.com/mail/?tab=wm\">Gmail</a> <a class=gb1 href=\"https://drive.google.com/?tab=wo\">Drive</a> <a class=gb1 style=\"text-decoration:none\" href=\"https://www.google.co.in/intl/en/about/products?tab=wh\"><u>More</u> &raquo;</a></nobr></div><div id=guser width=100%><nobr><span id=gbn class=gbi></span><span id=gbf class=gbf></span><span id=gbe></span><a href=\"http://www.google.co.in/history/optout?hl=en\" class=gb4>Web History</a> | <a  href=\"/preferences?hl=en\" class=gb4>Settings</a> | <a target=_top id=gb_70 href=\"https://accounts.google.com/ServiceLogin?hl=en&passive=true&continue=https://www.google.com/&ec=GAZAAQ\" class=gb4>Sign in</a></nobr></div><div class=gbh style=left:0></div><div class=gbh style=right:0></div></div><center><br clear=\"all\" id=\"lgpd\"><div id=\"lga\"><img alt=\"Google\" height=\"92\" src=\"/images/branding/googlelogo/1x/googlelogo_white_background_color_272x92dp.png\" style=\"padding:28px 0 14px\" width=\"272\" id=\"hplogo\"><br><br></div><form action=\"/search\" name=\"f\"><table cellpadding=\"0\" cellspacing=\"0\"><tr valign=\"top\"><td width=\"25%\">&nbsp;</td><td align=\"center\" nowrap=\"\"><input name=\"ie\" value=\"ISO-8859-1\" type=\"hidden\"><input value=\"en-IN\" name=\"hl\" type=\"hidden\"><input name=\"source\" type=\"hidden\" value=\"hp\"><input name=\"biw\" type=\"hidden\"><input name=\"bih\" type=\"hidden\"><div class=\"ds\" style=\"height:32px;margin:4px 0\"><input class=\"lst\" style=\"margin:0;padding:5px 8px 0 6px;vertical-align:top;color:#000\" autocomplete=\"off\" value=\"\" title=\"Google Search\" maxlength=\"2048\" name=\"q\" size=\"57\"></div><br style=\"line-height:0\"><span class=\"ds\"><span class=\"lsbb\"><input class=\"lsb\" value=\"Google Search\" name=\"btnG\" type=\"submit\"></span></span><span class=\"ds\"><span class=\"lsbb\"><input class=\"lsb\" id=\"tsuid_1\" value=\"I'm Feeling Lucky\" name=\"btnI\" type=\"submit\"><script nonce=\"6Gbpg0RCfAOU7etUGt1dUg\">(function(){var id='tsuid_1';document.getElementById(id).onclick = function(){if (this.form.q.value){this.checked = 1;if (this.form.iflsig)this.form.iflsig.disabled = false;}\n",
      "else top.location='/doodles/';};})();</script><input value=\"AL9hbdgAAAAAZn9v3eEAuuFS1NzNt1VQBgNP6QLkmjGJ\" name=\"iflsig\" type=\"hidden\"></span></span></td><td class=\"fl sblc\" align=\"left\" nowrap=\"\" width=\"25%\"><a href=\"/advanced_search?hl=en-IN&amp;authuser=0\">Advanced search</a></td></tr></table><input id=\"gbv\" name=\"gbv\" type=\"hidden\" value=\"1\"><script nonce=\"6Gbpg0RCfAOU7etUGt1dUg\">(function(){var a,b=\"1\";if(document&&document.getElementById)if(typeof XMLHttpRequest!=\"undefined\")b=\"2\";else if(typeof ActiveXObject!=\"undefined\"){var c,d,e=[\"MSXML2.XMLHTTP.6.0\",\"MSXML2.XMLHTTP.3.0\",\"MSXML2.XMLHTTP\",\"Microsoft.XMLHTTP\"];for(c=0;d=e[c++];)try{new ActiveXObject(d),b=\"2\"}catch(h){}}a=b;if(a==\"2\"&&location.search.indexOf(\"&gbv=2\")==-1){var f=google.gbvu,g=document.getElementById(\"gbv\");g&&(g.value=a);f&&window.setTimeout(function(){location.href=f},0)};}).call(this);</script></form><div id=\"gac_scont\"></div><div style=\"font-size:83%;min-height:3.5em\"><br><div id=\"gws-output-pages-elements-homepage_additional_languages__als\"><style>#gws-output-pages-elements-homepage_additional_languages__als{font-size:small;margin-bottom:24px}#SIvCob{color:#474747;display:inline-block;line-height:28px;}#SIvCob a{padding:0 3px;}.H6sW5{display:inline-block;margin:0 2px;white-space:nowrap}.z4hgWe{display:inline-block;margin:0 2px}</style><div id=\"SIvCob\">Google offered in:  <a href=\"https://www.google.com/setprefs?sig=0_1oFV5kzcWpV9G9rZGRjiZ6fMMz8%3D&amp;hl=hi&amp;source=homepage&amp;sa=X&amp;ved=0ahUKEwjE-seQ0_-GAxV31TgGHfEUDUoQ2ZgBCAY\">&#2361;&#2367;&#2344;&#2381;&#2342;&#2368;</a>    <a href=\"https://www.google.com/setprefs?sig=0_1oFV5kzcWpV9G9rZGRjiZ6fMMz8%3D&amp;hl=bn&amp;source=homepage&amp;sa=X&amp;ved=0ahUKEwjE-seQ0_-GAxV31TgGHfEUDUoQ2ZgBCAc\">&#2476;&#2494;&#2434;&#2482;&#2494;</a>    <a href=\"https://www.google.com/setprefs?sig=0_1oFV5kzcWpV9G9rZGRjiZ6fMMz8%3D&amp;hl=te&amp;source=homepage&amp;sa=X&amp;ved=0ahUKEwjE-seQ0_-GAxV31TgGHfEUDUoQ2ZgBCAg\">&#3108;&#3142;&#3122;&#3137;&#3095;&#3137;</a>    <a href=\"https://www.google.com/setprefs?sig=0_1oFV5kzcWpV9G9rZGRjiZ6fMMz8%3D&amp;hl=mr&amp;source=homepage&amp;sa=X&amp;ved=0ahUKEwjE-seQ0_-GAxV31TgGHfEUDUoQ2ZgBCAk\">&#2350;&#2352;&#2366;&#2336;&#2368;</a>    <a href=\"https://www.google.com/setprefs?sig=0_1oFV5kzcWpV9G9rZGRjiZ6fMMz8%3D&amp;hl=ta&amp;source=homepage&amp;sa=X&amp;ved=0ahUKEwjE-seQ0_-GAxV31TgGHfEUDUoQ2ZgBCAo\">&#2980;&#2990;&#3007;&#2996;&#3021;</a>    <a href=\"https://www.google.com/setprefs?sig=0_1oFV5kzcWpV9G9rZGRjiZ6fMMz8%3D&amp;hl=gu&amp;source=homepage&amp;sa=X&amp;ved=0ahUKEwjE-seQ0_-GAxV31TgGHfEUDUoQ2ZgBCAs\">&#2711;&#2753;&#2716;&#2736;&#2750;&#2724;&#2752;</a>    <a href=\"https://www.google.com/setprefs?sig=0_1oFV5kzcWpV9G9rZGRjiZ6fMMz8%3D&amp;hl=kn&amp;source=homepage&amp;sa=X&amp;ved=0ahUKEwjE-seQ0_-GAxV31TgGHfEUDUoQ2ZgBCAw\">&#3221;&#3240;&#3277;&#3240;&#3233;</a>    <a href=\"https://www.google.com/setprefs?sig=0_1oFV5kzcWpV9G9rZGRjiZ6fMMz8%3D&amp;hl=ml&amp;source=homepage&amp;sa=X&amp;ved=0ahUKEwjE-seQ0_-GAxV31TgGHfEUDUoQ2ZgBCA0\">&#3374;&#3378;&#3375;&#3390;&#3379;&#3330;</a>    <a href=\"https://www.google.com/setprefs?sig=0_1oFV5kzcWpV9G9rZGRjiZ6fMMz8%3D&amp;hl=pa&amp;source=homepage&amp;sa=X&amp;ved=0ahUKEwjE-seQ0_-GAxV31TgGHfEUDUoQ2ZgBCA4\">&#2602;&#2672;&#2588;&#2622;&#2604;&#2624;</a>  </div></div></div><span id=\"footer\"><div style=\"font-size:10pt\"><div style=\"margin:19px auto;text-align:center\" id=\"WqQANb\"><a href=\"/intl/en/ads/\">Advertising</a><a href=\"http://www.google.co.in/services/\">Business Solutions</a><a href=\"/intl/en/about.html\">About Google</a><a href=\"https://www.google.com/setprefdomain?prefdom=IN&amp;prev=https://www.google.co.in/&amp;sig=K_Il8pR4ZXAoVfoHOitg2om2atWp4%3D\">Google.co.in</a></div></div><p style=\"font-size:8pt;color:#70757a\">&copy; 2024 - <a href=\"/intl/en/policies/privacy/\">Privacy</a> - <a href=\"/intl/en/policies/terms/\">Terms</a></p></span></center><script nonce=\"6Gbpg0RCfAOU7etUGt1dUg\">(function(){window.google.cdo={height:757,width:1440};(function(){var a=window.innerWidth,b=window.innerHeight;if(!a||!b){var c=window.document,d=c.compatMode==\"CSS1Compat\"?c.documentElement:c.body;a=d.clientWidth;b=d.clientHeight}\n",
      "if(a&&b&&(a!=google.cdo.width||b!=google.cdo.height)){var e=google,f=e.log,g=\"/client_204?&atyp=i&biw=\"+a+\"&bih=\"+b+\"&ei=\"+google.kEI,h=\"\",k=[],l=window.google!==void 0&&window.google.kOPI!==void 0&&window.google.kOPI!==0?window.google.kOPI:null;l!=null&&k.push([\"opi\",l.toString()]);for(var m=0;m<k.length;m++){if(m===0||m>0)h+=\"&\";h+=k[m][0]+\"=\"+k[m][1]}f.call(e,\"\",\"\",g+h)};}).call(this);})();</script>  <script nonce=\"6Gbpg0RCfAOU7etUGt1dUg\">(function(){google.xjs={basecomb:'/xjs/_/js/k\\x3dxjs.hp.en.PXRkTUT5lpc.O/ck\\x3dxjs.hp.EKEqW5u2chQ.L.X.O/am\\x3dAQAAgAAAAAAAAAAAAAAAAAAAAAAAAAEAAAAAAAAAGAAHAAAAIABAIAAAAAB4AAAAAAAAAAABAAYgIAAOxHcEAAKwCAAALw/d\\x3d1/ed\\x3d1/dg\\x3d0/ujg\\x3d1/rs\\x3dACT90oHGBmdcRiDhk4YexQBBpYO6w0nJTg',basecss:'/xjs/_/ss/k\\x3dxjs.hp.EKEqW5u2chQ.L.X.O/am\\x3dAQAAgAAAAAAAAAAAAAAAAAAAAAAAAAAAAAAAAAAAAAAAAAAAIABAIAAAAAAAAAAAAAAAAAABAAYgIA/rs\\x3dACT90oH_1onESPcsTmDNUxxCqrE_7QM7uQ',basejs:'/xjs/_/js/k\\x3dxjs.hp.en.PXRkTUT5lpc.O/am\\x3dAAAAAAAAAAAAAAAAAAAAAAAAAAAAAAEAAAAAAAAAGAAHAAAAAAAAAAAAAAB4AAAAAAAAAAAAAAAAAAAOxHcEAAKwCAAALw/dg\\x3d0/rs\\x3dACT90oEmNY5yiLKMuvboJPli6dVsNHHqOw',excm:[]};})();</script>  <link href=\"/xjs/_/ss/k=xjs.hp.EKEqW5u2chQ.L.X.O/am=AQAAgAAAAAAAAAAAAAAAAAAAAAAAAAAAAAAAAAAAAAAAAAAAIABAIAAAAAAAAAAAAAAAAAABAAYgIA/d=1/ed=1/rs=ACT90oH_1onESPcsTmDNUxxCqrE_7QM7uQ/m=sb_he,d\" rel=\"stylesheet\" nonce=\"6Gbpg0RCfAOU7etUGt1dUg\">      <script nonce=\"6Gbpg0RCfAOU7etUGt1dUg\">(function(){var u='/xjs/_/js/k\\x3dxjs.hp.en.PXRkTUT5lpc.O/am\\x3dAAAAAAAAAAAAAAAAAAAAAAAAAAAAAAEAAAAAAAAAGAAHAAAAAAAAAAAAAAB4AAAAAAAAAAAAAAAAAAAOxHcEAAKwCAAALw/d\\x3d1/ed\\x3d1/rs\\x3dACT90oEmNY5yiLKMuvboJPli6dVsNHHqOw/m\\x3dsb_he,d';var st=1;var amd=1000;var mmd=0;\n",
      "var e=this||self,f=function(a){return a};var g;var h=function(a){this.g=a};h.prototype.toString=function(){return this.g+\"\"};var k={};\n",
      "function l(a,b){a.src=b instanceof h&&b.constructor===h?b.g:\"type_error:TrustedResourceUrl\";var c,d;(c=(b=(d=(c=(a.ownerDocument&&a.ownerDocument.defaultView||window).document).querySelector)==null?void 0:d.call(c,\"script[nonce]\"))?b.nonce||b.getAttribute(\"nonce\")||\"\":\"\")&&a.setAttribute(\"nonce\",c)};var m=function(){var a=document;var b=\"SCRIPT\";a.contentType===\"application/xhtml+xml\"&&(b=b.toLowerCase());return a.createElement(b)};function n(a){a=a===null?\"null\":a===void 0?\"undefined\":a;if(g===void 0){var b=null;var c=e.trustedTypes;if(c&&c.createPolicy){try{b=c.createPolicy(\"goog#html\",{createHTML:f,createScript:f,createScriptURL:f})}catch(d){e.console&&e.console.error(d.message)}g=b}else g=b}a=(b=g)?b.createScriptURL(a):a;return new h(a,k)};google.ps===void 0&&(google.ps=[]);function p(){var a=u,b=function(){};google.lx=google.stvsc?b:function(){q(a);google.lx=b};google.bx||google.lx()}function r(a,b){b&&l(a,n(b));var c=a.onload;a.onload=function(d){c&&c(d);google.ps=google.ps.filter(function(F){return a!==F})};google.ps.push(a);document.body.appendChild(a)}google.as=r;function q(a){google.timers&&google.timers.load&&google.tick&&google.tick(\"load\",\"xjsls\");var b=m();b.onerror=function(){google.ple=1};b.onload=function(){google.ple=0};google.xjsus=void 0;r(b,a);google.aple=-1;google.psa=!0};function t(a){var b=a.getAttribute(\"jscontroller\");return(b===\"UBXHI\"||b===\"R3fhkb\"||b===\"TSZEqd\")&&a.hasAttribute(\"data-src\")}function w(){for(var a=document.getElementsByTagName(\"img\"),b=0,c=a.length;b<c;b++){var d=a[b];if(d.hasAttribute(\"data-lzy_\")&&Number(d.getAttribute(\"data-atf\"))&1&&!t(d))return!0}return!1}for(var x=document.getElementsByTagName(\"img\"),y=0,z=x.length;y<z;++y){var A=x[y];Number(A.getAttribute(\"data-atf\"))&1&&t(A)&&(A.src=A.getAttribute(\"data-src\"))};var B,C,D,E;function G(){google.xjsu=u;e._F_jsUrl=u;E=function(){p()};B=!1;C=(st===1||st===3)&&!!google.caft&&!w();D=(st===2||st===3)&&!!google.rairicb&&!w()}function H(){B||C||D||(E(),B=!0)}setTimeout(function(){google&&google.tick&&google.timers&&google.timers.load&&google.tick(\"load\",\"xjspls\");G();if(C||D){if(C){var a=function(){C=!1;H()};google.caft(a);window.setTimeout(a,amd)}D&&(a=function(){D=!1;H()},(0,google.rairicb)(a),window.setTimeout(a,mmd))}else E()},0);})();window._ = window._ || {};window._DumpException = _._DumpException = function(e){throw e;};window._s = window._s || {};_s._DumpException = _._DumpException;window._qs = window._qs || {};_qs._DumpException = _._DumpException;(function(){var t=[1,2,0,0,0,83886080,0,655360,67567769,8388644,132096,503318784,0,0,274726928,58722312,292804,2278408,192512];window._F_toggles = window._xjs_toggles = t;})();function _F_installCss(c){}\n",
      "(function(){google.jl={bfl:0,dw:false,ine:false,ubm:false,uwp:true,vs:false};})();(function(){var pmc='{\\x22d\\x22:{},\\x22sb_he\\x22:{\\x22agen\\x22:false,\\x22cgen\\x22:false,\\x22client\\x22:\\x22heirloom-hp\\x22,\\x22dh\\x22:true,\\x22ds\\x22:\\x22\\x22,\\x22fl\\x22:true,\\x22host\\x22:\\x22google.com\\x22,\\x22jsonp\\x22:true,\\x22msgs\\x22:{\\x22cibl\\x22:\\x22Clear Search\\x22,\\x22dym\\x22:\\x22Did you mean:\\x22,\\x22lcky\\x22:\\x22I\\\\u0026#39;m Feeling Lucky\\x22,\\x22lml\\x22:\\x22Learn more\\x22,\\x22psrc\\x22:\\x22This search was removed from your \\\\u003Ca href\\x3d\\\\\\x22/history\\\\\\x22\\\\u003EWeb History\\\\u003C/a\\\\u003E\\x22,\\x22psrl\\x22:\\x22Remove\\x22,\\x22sbit\\x22:\\x22Search by image\\x22,\\x22srch\\x22:\\x22Google Search\\x22},\\x22ovr\\x22:{},\\x22pq\\x22:\\x22\\x22,\\x22rfs\\x22:[],\\x22sbas\\x22:\\x220 3px 8px 0 rgba(0,0,0,0.2),0 0 0 1px rgba(0,0,0,0.08)\\x22,\\x22stok\\x22:\\x22XUACOGDmQ3XbRBRGGgS10_sYZ60\\x22}}';google.pmc=JSON.parse(pmc);})();(function(){var c=function(a){var b=0;return function(){return b<a.length?{done:!1,value:a[b++]}:{done:!0}}};\n",
      "var e=this||self;var g,h;a:{for(var k=[\"CLOSURE_FLAGS\"],l=e,n=0;n<k.length;n++)if(l=l[k[n]],l==null){h=null;break a}h=l}var p=h&&h[610401301];g=p!=null?p:!1;var q,r=e.navigator;q=r?r.userAgentData||null:null;function t(a){return g?q?q.brands.some(function(b){return(b=b.brand)&&b.indexOf(a)!=-1}):!1:!1}function u(a){var b;a:{if(b=e.navigator)if(b=b.userAgent)break a;b=\"\"}return b.indexOf(a)!=-1};function v(){return g?!!q&&q.brands.length>0:!1}function w(){return u(\"Safari\")&&!(x()||(v()?0:u(\"Coast\"))||(v()?0:u(\"Opera\"))||(v()?0:u(\"Edge\"))||(v()?t(\"Microsoft Edge\"):u(\"Edg/\"))||(v()?t(\"Opera\"):u(\"OPR\"))||u(\"Firefox\")||u(\"FxiOS\")||u(\"Silk\")||u(\"Android\"))}function x(){return v()?t(\"Chromium\"):(u(\"Chrome\")||u(\"CriOS\"))&&!(v()?0:u(\"Edge\"))||u(\"Silk\")}function y(){return u(\"Android\")&&!(x()||u(\"Firefox\")||u(\"FxiOS\")||(v()?0:u(\"Opera\"))||u(\"Silk\"))};var z=v()?!1:u(\"Trident\")||u(\"MSIE\");y();x();w();var A=typeof Symbol===\"function\"&&typeof Symbol()===\"symbol\",B;B=typeof Symbol===\"function\"&&typeof Symbol()===\"symbol\"?Symbol():void 0;var C=[];(A?function(a,b){a[B]=b}:function(a,b){a.g!==void 0?a.g=b:Object.defineProperties(a,{g:{value:b,configurable:!0,writable:!0,enumerable:!1}})})(C,55);Object.freeze(C);var D=function(){};Object.freeze(new function(){});Object.freeze(new D);Object.freeze(new D);var G=!z&&!w(),H=function(a){if(/-[a-z]/.test(\"ved\"))return null;if(G&&a.dataset){if(y()&&!(\"ved\"in a.dataset))return null;a=a.dataset.ved;return a===void 0?null:a}return a.getAttribute(\"data-\"+\"ved\".replace(/([A-Z])/g,\"-$1\").toLowerCase())};var I=[],J=null;function K(a){a=a.target;var b=performance.now(),f=[],L=f.concat,d=I;if(!(d instanceof Array)){var m=typeof Symbol!=\"undefined\"&&Symbol.iterator&&d[Symbol.iterator];if(m)d=m.call(d);else if(typeof d.length==\"number\")d={next:c(d)};else throw Error(\"b`\"+String(d));for(var E=[];!(m=d.next()).done;)E.push(m.value);d=E}I=L.call(f,d,[b]);if(a&&a instanceof HTMLElement)if(a===J){if(b=I.length>=4)b=(I[I.length-1]-I[I.length-4])/1E3<5;if(b){b=google.getEI(a);a.hasAttribute(\"data-ved\")?f=a?H(a)||\"\":\"\":f=(f=\n",
      "a.closest(\"[data-ved]\"))?H(f)||\"\":\"\";f=f||\"\";if(a.hasAttribute(\"jsname\"))a=a.getAttribute(\"jsname\");else{var F;a=(F=a.closest(\"[jsname]\"))==null?void 0:F.getAttribute(\"jsname\")}google.log(\"rcm\",\"&ei=\"+b+\"&tgtved=\"+f+\"&jsname=\"+(a||\"\"))}}else J=a,I=[b]}window.document.addEventListener(\"DOMContentLoaded\",function(){document.body.addEventListener(\"click\",K)});}).call(this);</script></body></html>\n"
     ]
    }
   ],
   "execution_count": 2
  },
  {
   "metadata": {
    "ExecuteTime": {
     "end_time": "2024-06-29T01:22:28.912100Z",
     "start_time": "2024-06-29T01:22:27.807107Z"
    }
   },
   "cell_type": "code",
   "source": [
    "from bs4 import BeautifulSoup\n",
    "\n",
    "\n",
    "def extract_content(response: str) -> str | None:\n",
    "    if not response:\n",
    "        return None\n",
    "    soup = BeautifulSoup(response, 'html.parser')\n",
    "    text_content = ' '.join([element.get_text() for element in soup.find_all(['p', 'h1', 'h2', 'h3', 'a'])])\n",
    "    return text_content\n",
    "\n",
    "\n",
    "print(extract_content(get_url(\"https://accounts.google.com\")))"
   ],
   "id": "359e5a7ef07a7210",
   "outputs": [
    {
     "name": "stdout",
     "output_type": "stream",
     "text": [
      "Sign in Use your Google Account  Forgot email? Forgot email? Not your computer? Use a private browsing window to sign in. Learn more about using Guest mode Learn more about using Guest mode Create account Help Privacy Terms\n"
     ]
    }
   ],
   "execution_count": 3
  },
  {
   "metadata": {
    "ExecuteTime": {
     "end_time": "2024-06-29T01:22:30.129482Z",
     "start_time": "2024-06-29T01:22:29.957458Z"
    }
   },
   "cell_type": "code",
   "source": [
    "import tldextract\n",
    "\n",
    "\n",
    "def get_main_domain(url: str):\n",
    "    ext = tldextract.extract(url)\n",
    "    return f\"{ext.domain}.{ext.suffix}\"\n",
    "\n",
    "\n",
    "print(get_main_domain(\"https://www.google.com\"))"
   ],
   "id": "de31baf018aec2bc",
   "outputs": [
    {
     "name": "stdout",
     "output_type": "stream",
     "text": [
      "google.com\n"
     ]
    }
   ],
   "execution_count": 4
  },
  {
   "metadata": {
    "ExecuteTime": {
     "end_time": "2024-06-29T01:22:31.633153Z",
     "start_time": "2024-06-29T01:22:31.201164Z"
    }
   },
   "cell_type": "code",
   "source": [
    "def classify_features(url: str, content: str):\n",
    "    features = {\n",
    "        \"url\": url,\n",
    "        \"domain\": get_main_domain(url),\n",
    "        \"content\": content\n",
    "    }\n",
    "    return features\n",
    "\n",
    "\n",
    "print(classify_features(\"https://www.google.com\", extract_content(get_url(\"https://www.google.com\"))))"
   ],
   "id": "262ba851f7e2e013",
   "outputs": [
    {
     "name": "stdout",
     "output_type": "stream",
     "text": [
      "{'url': 'https://www.google.com', 'domain': 'google.com', 'content': 'Images Maps Play YouTube News Gmail Drive More » Web History Settings Sign in Advanced search हिन्दी বাংলা తెలుగు मराठी தமிழ் ગુજરાતી ಕನ್ನಡ മലയാളം ਪੰਜਾਬੀ Advertising Business Solutions About Google Google.co.in © 2024 - Privacy - Terms Privacy Terms'}\n"
     ]
    }
   ],
   "execution_count": 5
  },
  {
   "metadata": {
    "ExecuteTime": {
     "end_time": "2024-06-29T01:22:33.714475Z",
     "start_time": "2024-06-29T01:22:32.716016Z"
    }
   },
   "cell_type": "code",
   "source": [
    "import time\n",
    "\n",
    "\n",
    "def get_features_from_site(real_sites: list[str]) -> list[dict[str, str]]:\n",
    "    real_sites_features = []\n",
    "    for site in real_sites:\n",
    "        print(f\"Getting feature from {site}...\", end=' ')\n",
    "        time_init = time.time()\n",
    "        content = extract_content(get_url(site))\n",
    "\n",
    "        if content:\n",
    "            features = classify_features(site, content)\n",
    "            real_sites_features.append(features)\n",
    "            print(f\"Done\", end=' ')\n",
    "        else:\n",
    "            print(f\"Failed\", end=' ')\n",
    "\n",
    "        time_finish = time.time()\n",
    "        time_taken = round(time_finish - time_init, 4)\n",
    "        print(f\"[{time_taken} secs]\")\n",
    "\n",
    "    return real_sites_features\n",
    "\n",
    "\n",
    "print(get_features_from_site([\"https://www.google.com\", \"https://www.facebook.com\"]))"
   ],
   "id": "550569d7478da3ab",
   "outputs": [
    {
     "name": "stdout",
     "output_type": "stream",
     "text": [
      "Getting feature from https://www.google.com... Done [0.4465 secs]\n",
      "Getting feature from https://www.facebook.com... Done [0.54 secs]\n",
      "[{'url': 'https://www.google.com', 'domain': 'google.com', 'content': 'Images Maps Play YouTube News Gmail Drive More » Web History Settings Sign in Advanced search हिन्दी বাংলা తెలుగు मराठी தமிழ் ગુજરાતી ಕನ್ನಡ മലയാളം ਪੰਜਾਬੀ Advertising Business Solutions About Google Google.co.in © 2024 - Privacy - Terms Privacy Terms'}, {'url': 'https://www.facebook.com', 'domain': 'facebook.com', 'content': 'Facebook আপনাকে লোকেদের সাথে সংযুক্ত হতে ও নানা বিষয় শেয়ার করতে সাহায্য করে।  পাসওয়ার্ড ভুলে গেছেন? নতুন অ্যাকাউন্ট তৈরি করুন একটি পেজ তৈরি করুন हिन्दी اردو नेपाली ଓଡ଼ିଆ English (UK) Español Português (Brasil) Français (France) Deutsch Italiano  সাইন আপ করুন লগ ইন করুন Messenger Facebook Lite ভিডিও স্থান গেমগুলি Marketplace Meta Pay Meta স্টোর Meta Quest Meta AI Instagram Threads অনুদান সংগ্রহ পরিষেবা ভোটিং তথ্য কেন্দ্র প্রাইভেসি পলিসি প্রাইভেসি সেন্টার গ্রুপ সম্বন্ধে বিজ্ঞাপন তৈরি করুন পেজ তৈরি করুন ডেভেলপার পেশা কুকি বিজ্ঞাপন বিকল্প শর্তাবলী সাহায্য কন্ট্যাক্ট আপলোড করা এবং নন-ইউজার সেটিংস অ্যাক্টিভিটি লগ'}]\n"
     ]
    }
   ],
   "execution_count": 6
  },
  {
   "metadata": {
    "ExecuteTime": {
     "end_time": "2024-06-29T01:22:41.155640Z",
     "start_time": "2024-06-29T01:22:34.992068Z"
    }
   },
   "cell_type": "code",
   "source": [
    "import pandas\n",
    "from sklearn.feature_extraction.text import TfidfVectorizer\n",
    "import joblib\n",
    "\n",
    "\n",
    "def add_features_to_model(features: list[dict[str, int | str]]):\n",
    "    try:\n",
    "        existing_data = pandas.read_pickle('../data/real_sites_features_probability.pkl')\n",
    "        print(\"Existing data loaded successfully.\")\n",
    "    except FileNotFoundError:\n",
    "        print(\"File not found. Initializing empty DataFrame.\")\n",
    "        existing_data = pandas.DataFrame()\n",
    "\n",
    "    new_data = pandas.DataFrame(features)\n",
    "    combined_data = pandas.concat([existing_data, new_data], ignore_index=True)\n",
    "\n",
    "    print(f\"Combined data shape: {combined_data.shape}\")\n",
    "    print(f\"Combined data head: {combined_data.head()}\")\n",
    "\n",
    "    vectorizer = TfidfVectorizer(stop_words='english')\n",
    "    real_sites_tfidf = vectorizer.fit_transform(combined_data['content'])\n",
    "\n",
    "    print(f\"TF-IDF shape: {real_sites_tfidf.shape}\")\n",
    "\n",
    "    joblib.dump(vectorizer, '../data/tfidf_vectorizer_real_site_probability.pkl')\n",
    "    combined_data.to_pickle('../data/real_sites_features_probability.pkl')\n",
    "    print(\"Data Updated Successfully\")\n",
    "\n",
    "\n",
    "add_features_to_model(get_features_from_site([\"https://www.google.com\", \"https://www.facebook.com\"]))"
   ],
   "id": "6087a720edef7fb3",
   "outputs": [
    {
     "name": "stdout",
     "output_type": "stream",
     "text": [
      "Getting feature from https://www.google.com... Done [0.4377 secs]\n",
      "Getting feature from https://www.facebook.com... Done [0.5528 secs]\n",
      "Existing data loaded successfully.\n",
      "Combined data shape: (4, 3)\n",
      "Combined data head:                         url        domain  \\\n",
      "0    https://www.google.com    google.com   \n",
      "1  https://www.facebook.com  facebook.com   \n",
      "2    https://www.google.com    google.com   \n",
      "3  https://www.facebook.com  facebook.com   \n",
      "\n",
      "                                             content  \n",
      "0  Images Maps Play YouTube News Gmail Drive More...  \n",
      "1  Facebook আপনাকে লোকেদের সাথে সংযুক্ত হতে ও নান...  \n",
      "2  Images Maps Play YouTube News Gmail Drive More...  \n",
      "3  Facebook আপনাকে লোকেদের সাথে সংযুক্ত হতে ও নান...  \n",
      "TF-IDF shape: (4, 79)\n",
      "Data Updated Successfully\n"
     ]
    }
   ],
   "execution_count": 7
  },
  {
   "metadata": {
    "ExecuteTime": {
     "end_time": "2024-06-29T01:22:42.751924Z",
     "start_time": "2024-06-29T01:22:42.113735Z"
    }
   },
   "cell_type": "code",
   "source": [
    "from sklearn.metrics.pairwise import cosine_similarity\n",
    "\n",
    "\n",
    "def check_similarity(url: str, content: str) -> dict[str, str]:\n",
    "    vectorizer = joblib.load('../data/tfidf_vectorizer_real_site_probability.pkl')\n",
    "    real_sites_df = pandas.read_pickle('../data/real_sites_features_probability.pkl')\n",
    "\n",
    "    visiting_domain = get_main_domain(url)\n",
    "\n",
    "    # If the visiting domain is already in the real sites, it is 100% real\n",
    "    if visiting_domain in real_sites_df['domain'].values:\n",
    "        return {\"status\": \"real\", \"real_domain\": visiting_domain, \"real_url\": url,\n",
    "                \"probability\": 1.0}\n",
    "\n",
    "    real_sites_tfidf = vectorizer.fit_transform(real_sites_df['content'])\n",
    "\n",
    "    features = classify_features(url, content)\n",
    "    tfidf_features = vectorizer.transform([features['content']])\n",
    "\n",
    "    print(f\"TF-IDF features shape: {tfidf_features.shape}\")\n",
    "\n",
    "    similarities = cosine_similarity(tfidf_features, real_sites_tfidf).flatten()\n",
    "    max_similarity_index = similarities.argmax()\n",
    "    max_similarity = similarities[max_similarity_index]\n",
    "\n",
    "    print(f\"Similarities: {similarities}\")\n",
    "    print(f\"Max similarity index: {max_similarity_index}\")\n",
    "    print(f\"Max similarity: {max_similarity}\")\n",
    "\n",
    "    real_site = real_sites_df.iloc[max_similarity_index]\n",
    "    real_site_domain = real_site[\"domain\"]\n",
    "    real_site_url = real_site[\"url\"]\n",
    "    provided_url_domain = get_main_domain(url)\n",
    "\n",
    "    print(f\"Max similarity: {max_similarity}\")\n",
    "    print(f\"Real site URL: {real_site_url}\")\n",
    "    print(f\"Provided URL: {url}\")\n",
    "\n",
    "    if max_similarity > 0.7:\n",
    "        if real_site_domain != provided_url_domain:\n",
    "            return {\"status\": \"fake\", \"real_domain\": real_site_domain, \"real_url\": real_site_url,\n",
    "                    \"probability\": max_similarity}\n",
    "        else:\n",
    "            return {\"status\": \"real\", \"real_domain\": real_site_domain, \"real_url\": real_site_url,\n",
    "                    \"probability\": max_similarity}\n",
    "    else:\n",
    "        return {\"status\": \"uncertain\", \"real_domain\": real_site_domain, \"real_url\": real_site_url,\n",
    "                \"probability\": max_similarity}\n",
    "    \n",
    "print(check_similarity(\"https://www.google.com\", extract_content(get_url(\"https://www.google.com\"))))"
   ],
   "id": "24a42f432269042b",
   "outputs": [
    {
     "name": "stdout",
     "output_type": "stream",
     "text": [
      "{'status': 'real', 'real_domain': 'google.com', 'real_url': 'https://www.google.com', 'probability': 1.0}\n"
     ]
    }
   ],
   "execution_count": 8
  },
  {
   "metadata": {
    "ExecuteTime": {
     "end_time": "2024-06-29T01:22:45.034987Z",
     "start_time": "2024-06-29T01:22:44.641124Z"
    }
   },
   "cell_type": "code",
   "source": [
    "def check_similarity_using_url(url) -> dict[str, str | None]:\n",
    "    content = extract_content(get_url(url))\n",
    "\n",
    "    if content:\n",
    "        return check_similarity(url, content)\n",
    "    else:\n",
    "        print(f\"Could not fetch content from {url}\")\n",
    "        return {\"status\": \"error\", \"real_domain\": None, \"real_url\": None, \"probability\": None,\n",
    "                \"error\": \"Could not fetch content\"}\n",
    "    \n",
    "print(check_similarity_using_url(\"https://www.google.com\"))"
   ],
   "id": "1dc18fb113caa24",
   "outputs": [
    {
     "name": "stdout",
     "output_type": "stream",
     "text": [
      "{'status': 'real', 'real_domain': 'google.com', 'real_url': 'https://www.google.com', 'probability': 1.0}\n"
     ]
    }
   ],
   "execution_count": 9
  },
  {
   "metadata": {
    "ExecuteTime": {
     "end_time": "2024-06-29T01:23:12.232531Z",
     "start_time": "2024-06-29T01:23:11.383410Z"
    }
   },
   "cell_type": "code",
   "source": [
    "def check_url_list(url: list[str]):\n",
    "    for url_to_check in url:\n",
    "        result = check_similarity_using_url(url_to_check)\n",
    "        print(f\"Result for {url_to_check}: {result}\")\n",
    "        \n",
    "check_url_list([\"https://www.google.com\", \"https://www.facebook.com\"])"
   ],
   "id": "7307d294476e46d9",
   "outputs": [
    {
     "name": "stdout",
     "output_type": "stream",
     "text": [
      "Result for https://www.google.com: {'status': 'real', 'real_domain': 'google.com', 'real_url': 'https://www.google.com', 'probability': 1.0}\n",
      "Result for https://www.facebook.com: {'status': 'real', 'real_domain': 'facebook.com', 'real_url': 'https://www.facebook.com', 'probability': 1.0}\n"
     ]
    }
   ],
   "execution_count": 10
  }
 ],
 "metadata": {
  "kernelspec": {
   "display_name": "Python 3",
   "language": "python",
   "name": "python3"
  },
  "language_info": {
   "codemirror_mode": {
    "name": "ipython",
    "version": 2
   },
   "file_extension": ".py",
   "mimetype": "text/x-python",
   "name": "python",
   "nbconvert_exporter": "python",
   "pygments_lexer": "ipython2",
   "version": "2.7.6"
  }
 },
 "nbformat": 4,
 "nbformat_minor": 5
}
